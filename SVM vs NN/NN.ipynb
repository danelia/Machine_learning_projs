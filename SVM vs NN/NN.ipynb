{
 "cells": [
  {
   "cell_type": "code",
   "execution_count": 74,
   "metadata": {
    "collapsed": true
   },
   "outputs": [],
   "source": [
    "import numpy as np\n",
    "import pandas as pd\n",
    "from keras.models import Sequential\n",
    "from keras.layers import Dense\n",
    "from sklearn.metrics import accuracy_score"
   ]
  },
  {
   "cell_type": "code",
   "execution_count": 75,
   "metadata": {
    "collapsed": true
   },
   "outputs": [],
   "source": [
    "train = pd.read_csv(\"fashion-mnist_train_small.csv\")\n",
    "test = pd.read_csv(\"fashion-mnist_test_small.csv\")"
   ]
  },
  {
   "cell_type": "code",
   "execution_count": 76,
   "metadata": {
    "collapsed": true
   },
   "outputs": [],
   "source": [
    "trainX = train.as_matrix()[:,1:]\n",
    "trainY = train.as_matrix()[:,:1].ravel()\n",
    "\n",
    "testX = test.as_matrix()[:,1:]\n",
    "testY = test.as_matrix()[:,:1].ravel()"
   ]
  },
  {
   "cell_type": "code",
   "execution_count": 77,
   "metadata": {},
   "outputs": [
    {
     "name": "stderr",
     "output_type": "stream",
     "text": [
      "C:\\Users\\jiiok\\Anaconda2\\envs\\py36\\lib\\site-packages\\ipykernel_launcher.py:2: UserWarning: Update your `Dense` call to the Keras 2 API: `Dense(128, input_dim=784, activation=\"relu\", kernel_initializer=\"uniform\")`\n",
      "  \n",
      "C:\\Users\\jiiok\\Anaconda2\\envs\\py36\\lib\\site-packages\\ipykernel_launcher.py:3: UserWarning: Update your `Dense` call to the Keras 2 API: `Dense(64, activation=\"relu\", kernel_initializer=\"uniform\")`\n",
      "  This is separate from the ipykernel package so we can avoid doing imports until\n",
      "C:\\Users\\jiiok\\Anaconda2\\envs\\py36\\lib\\site-packages\\ipykernel_launcher.py:4: UserWarning: Update your `Dense` call to the Keras 2 API: `Dense(10, activation=\"softmax\", kernel_initializer=\"uniform\")`\n",
      "  after removing the cwd from sys.path.\n"
     ]
    }
   ],
   "source": [
    "model = Sequential()\n",
    "model.add(Dense(128, input_dim=trainX.shape[1], init='uniform', activation='relu'))\n",
    "model.add(Dense(64, init='uniform', activation='relu'))\n",
    "model.add(Dense(10, init='uniform', activation='softmax'))"
   ]
  },
  {
   "cell_type": "code",
   "execution_count": 78,
   "metadata": {},
   "outputs": [
    {
     "name": "stderr",
     "output_type": "stream",
     "text": [
      "C:\\Users\\jiiok\\Anaconda2\\envs\\py36\\lib\\site-packages\\keras\\models.py:848: UserWarning: The `nb_epoch` argument in `fit` has been renamed `epochs`.\n",
      "  warnings.warn('The `nb_epoch` argument in `fit` '\n"
     ]
    },
    {
     "name": "stdout",
     "output_type": "stream",
     "text": [
      "Epoch 1/100\n",
      "1s - loss: 0.6959 - acc: 0.7598\n",
      "Epoch 2/100\n",
      "0s - loss: 0.5046 - acc: 0.8193\n",
      "Epoch 3/100\n",
      "0s - loss: 0.4625 - acc: 0.8330\n",
      "Epoch 4/100\n",
      "0s - loss: 0.4315 - acc: 0.8419\n",
      "Epoch 5/100\n",
      "0s - loss: 0.4002 - acc: 0.8544\n",
      "Epoch 6/100\n",
      "0s - loss: 0.3799 - acc: 0.8595\n",
      "Epoch 7/100\n",
      "0s - loss: 0.3846 - acc: 0.8620\n",
      "Epoch 8/100\n",
      "0s - loss: 0.3744 - acc: 0.8639\n",
      "Epoch 9/100\n",
      "0s - loss: 0.3702 - acc: 0.8637\n",
      "Epoch 10/100\n",
      "0s - loss: 0.3524 - acc: 0.8728\n",
      "Epoch 11/100\n",
      "0s - loss: 0.3498 - acc: 0.8759\n",
      "Epoch 12/100\n",
      "0s - loss: 0.3211 - acc: 0.8814\n",
      "Epoch 13/100\n",
      "0s - loss: 0.3232 - acc: 0.8814\n",
      "Epoch 14/100\n",
      "0s - loss: 0.3093 - acc: 0.8852\n",
      "Epoch 15/100\n",
      "0s - loss: 0.3196 - acc: 0.8805\n",
      "Epoch 16/100\n",
      "0s - loss: 0.3030 - acc: 0.8871\n",
      "Epoch 17/100\n",
      "0s - loss: 0.3258 - acc: 0.8801\n",
      "Epoch 18/100\n",
      "0s - loss: 0.2994 - acc: 0.8893\n",
      "Epoch 19/100\n",
      "0s - loss: 0.2922 - acc: 0.8890\n",
      "Epoch 20/100\n",
      "0s - loss: 0.2884 - acc: 0.8951\n",
      "Epoch 21/100\n",
      "0s - loss: 0.2802 - acc: 0.8960\n",
      "Epoch 22/100\n",
      "0s - loss: 0.2684 - acc: 0.9021\n",
      "Epoch 23/100\n",
      "0s - loss: 0.2800 - acc: 0.8967\n",
      "Epoch 24/100\n",
      "0s - loss: 0.2759 - acc: 0.9007\n",
      "Epoch 25/100\n",
      "1s - loss: 0.2569 - acc: 0.9013\n",
      "Epoch 26/100\n",
      "0s - loss: 0.2625 - acc: 0.9028\n",
      "Epoch 27/100\n",
      "1s - loss: 0.2471 - acc: 0.9065\n",
      "Epoch 28/100\n",
      "0s - loss: 0.2657 - acc: 0.9021\n",
      "Epoch 29/100\n",
      "1s - loss: 0.2577 - acc: 0.9047\n",
      "Epoch 30/100\n",
      "0s - loss: 0.2537 - acc: 0.9066\n",
      "Epoch 31/100\n",
      "0s - loss: 0.2549 - acc: 0.9072\n",
      "Epoch 32/100\n",
      "0s - loss: 0.2533 - acc: 0.9082\n",
      "Epoch 33/100\n",
      "0s - loss: 0.2264 - acc: 0.9163\n",
      "Epoch 34/100\n",
      "0s - loss: 0.2300 - acc: 0.9118\n",
      "Epoch 35/100\n",
      "0s - loss: 0.2367 - acc: 0.9137\n",
      "Epoch 36/100\n",
      "0s - loss: 0.2177 - acc: 0.9203\n",
      "Epoch 37/100\n",
      "0s - loss: 0.2247 - acc: 0.9175\n",
      "Epoch 38/100\n",
      "0s - loss: 0.2451 - acc: 0.9116\n",
      "Epoch 39/100\n",
      "0s - loss: 0.2576 - acc: 0.9141\n",
      "Epoch 40/100\n",
      "0s - loss: 0.2343 - acc: 0.9165\n",
      "Epoch 41/100\n",
      "0s - loss: 0.2020 - acc: 0.9248\n",
      "Epoch 42/100\n",
      "0s - loss: 0.2075 - acc: 0.9224\n",
      "Epoch 43/100\n",
      "0s - loss: 0.2139 - acc: 0.9184\n",
      "Epoch 44/100\n",
      "0s - loss: 0.2121 - acc: 0.9217\n",
      "Epoch 45/100\n",
      "0s - loss: 0.2228 - acc: 0.9185\n",
      "Epoch 46/100\n",
      "0s - loss: 0.2508 - acc: 0.9123\n",
      "Epoch 47/100\n",
      "0s - loss: 0.2121 - acc: 0.9192\n",
      "Epoch 48/100\n",
      "0s - loss: 0.1965 - acc: 0.9270\n",
      "Epoch 49/100\n",
      "0s - loss: 0.1845 - acc: 0.9303\n",
      "Epoch 50/100\n",
      "0s - loss: 0.1904 - acc: 0.9264\n",
      "Epoch 51/100\n",
      "0s - loss: 0.1997 - acc: 0.9247\n",
      "Epoch 52/100\n",
      "0s - loss: 0.2118 - acc: 0.9233\n",
      "Epoch 53/100\n",
      "0s - loss: 0.2111 - acc: 0.9219\n",
      "Epoch 54/100\n",
      "0s - loss: 0.2119 - acc: 0.9248\n",
      "Epoch 55/100\n",
      "0s - loss: 0.1775 - acc: 0.9340\n",
      "Epoch 56/100\n",
      "0s - loss: 0.1999 - acc: 0.9283\n",
      "Epoch 57/100\n",
      "0s - loss: 0.1811 - acc: 0.9353\n",
      "Epoch 58/100\n",
      "0s - loss: 0.2018 - acc: 0.9291\n",
      "Epoch 59/100\n",
      "0s - loss: 0.2033 - acc: 0.9309\n",
      "Epoch 60/100\n",
      "0s - loss: 0.1831 - acc: 0.9327\n",
      "Epoch 61/100\n",
      "0s - loss: 0.1811 - acc: 0.9345\n",
      "Epoch 62/100\n",
      "0s - loss: 0.1967 - acc: 0.9286\n",
      "Epoch 63/100\n",
      "0s - loss: 0.1717 - acc: 0.9356\n",
      "Epoch 64/100\n",
      "0s - loss: 0.1910 - acc: 0.9329\n",
      "Epoch 65/100\n",
      "0s - loss: 0.2006 - acc: 0.9293\n",
      "Epoch 66/100\n",
      "0s - loss: 0.1912 - acc: 0.9311\n",
      "Epoch 67/100\n",
      "0s - loss: 0.2041 - acc: 0.9306\n",
      "Epoch 68/100\n",
      "0s - loss: 0.1663 - acc: 0.9355\n",
      "Epoch 69/100\n",
      "0s - loss: 0.1653 - acc: 0.9397\n",
      "Epoch 70/100\n",
      "0s - loss: 0.1911 - acc: 0.9323\n",
      "Epoch 71/100\n",
      "0s - loss: 0.1838 - acc: 0.9335\n",
      "Epoch 72/100\n",
      "0s - loss: 0.1835 - acc: 0.9343\n",
      "Epoch 73/100\n",
      "1s - loss: 0.1690 - acc: 0.9382\n",
      "Epoch 74/100\n",
      "0s - loss: 0.1605 - acc: 0.9386\n",
      "Epoch 75/100\n",
      "0s - loss: 0.1723 - acc: 0.9374\n",
      "Epoch 76/100\n",
      "0s - loss: 0.1733 - acc: 0.9388\n",
      "Epoch 77/100\n",
      "0s - loss: 0.2137 - acc: 0.9285\n",
      "Epoch 78/100\n",
      "0s - loss: 0.1598 - acc: 0.9404\n",
      "Epoch 79/100\n",
      "0s - loss: 0.1659 - acc: 0.9388\n",
      "Epoch 80/100\n",
      "0s - loss: 0.1770 - acc: 0.9382\n",
      "Epoch 81/100\n",
      "0s - loss: 0.1730 - acc: 0.9409\n",
      "Epoch 82/100\n",
      "0s - loss: 0.1564 - acc: 0.9393\n",
      "Epoch 83/100\n",
      "0s - loss: 0.1665 - acc: 0.9378\n",
      "Epoch 84/100\n",
      "0s - loss: 0.1833 - acc: 0.9356\n",
      "Epoch 85/100\n",
      "1s - loss: 0.1649 - acc: 0.9402\n",
      "Epoch 86/100\n",
      "1s - loss: 0.1549 - acc: 0.9447\n",
      "Epoch 87/100\n",
      "1s - loss: 0.1668 - acc: 0.9390\n",
      "Epoch 88/100\n",
      "1s - loss: 0.1771 - acc: 0.9360\n",
      "Epoch 89/100\n",
      "0s - loss: 0.1581 - acc: 0.9422\n",
      "Epoch 90/100\n",
      "0s - loss: 0.1660 - acc: 0.9394\n",
      "Epoch 91/100\n",
      "0s - loss: 0.1532 - acc: 0.9413\n",
      "Epoch 92/100\n",
      "0s - loss: 0.1572 - acc: 0.9438\n",
      "Epoch 93/100\n",
      "0s - loss: 0.1590 - acc: 0.9444\n",
      "Epoch 94/100\n",
      "0s - loss: 0.1722 - acc: 0.9373\n",
      "Epoch 95/100\n",
      "1s - loss: 0.1609 - acc: 0.9428\n",
      "Epoch 96/100\n",
      "0s - loss: 0.1489 - acc: 0.9446\n",
      "Epoch 97/100\n",
      "0s - loss: 0.1598 - acc: 0.9450\n",
      "Epoch 98/100\n",
      "0s - loss: 0.1515 - acc: 0.9444\n",
      "Epoch 99/100\n",
      "0s - loss: 0.1424 - acc: 0.9475\n",
      "Epoch 100/100\n",
      "0s - loss: 0.1573 - acc: 0.9452\n"
     ]
    },
    {
     "data": {
      "text/plain": [
       "<keras.callbacks.History at 0x1c481e7b8d0>"
      ]
     },
     "execution_count": 78,
     "metadata": {},
     "output_type": "execute_result"
    }
   ],
   "source": [
    "model.compile(loss='categorical_crossentropy', optimizer='adam', metrics=['accuracy'])\n",
    "model.fit(trainX, keras.utils.to_categorical(trainY, num_classes=10), nb_epoch=100, batch_size=32, verbose=2)"
   ]
  },
  {
   "cell_type": "code",
   "execution_count": 79,
   "metadata": {},
   "outputs": [
    {
     "name": "stdout",
     "output_type": "stream",
     "text": [
      "2048/3000 [===================>..........] - ETA: 0s [9 1 9 ..., 1 6 1]\n"
     ]
    }
   ],
   "source": [
    "predictions = model.predict_classes(np.array(testX))\n",
    "accuracy = accuracy_score(predictions, testY)"
   ]
  },
  {
   "cell_type": "code",
   "execution_count": 80,
   "metadata": {},
   "outputs": [
    {
     "name": "stdout",
     "output_type": "stream",
     "text": [
      "0.833\n"
     ]
    }
   ],
   "source": [
    "print(accuracy)"
   ]
  },
  {
   "cell_type": "code",
   "execution_count": null,
   "metadata": {
    "collapsed": true
   },
   "outputs": [],
   "source": []
  }
 ],
 "metadata": {
  "kernelspec": {
   "display_name": "Python 3",
   "language": "python",
   "name": "python3"
  },
  "language_info": {
   "codemirror_mode": {
    "name": "ipython",
    "version": 3
   },
   "file_extension": ".py",
   "mimetype": "text/x-python",
   "name": "python",
   "nbconvert_exporter": "python",
   "pygments_lexer": "ipython3",
   "version": "3.6.2"
  }
 },
 "nbformat": 4,
 "nbformat_minor": 2
}
